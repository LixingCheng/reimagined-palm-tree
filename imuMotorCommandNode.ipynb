{
  "nbformat": 4,
  "nbformat_minor": 0,
  "metadata": {
    "colab": {
      "name": "imuMotorCommandNode.ipynb",
      "provenance": [],
      "collapsed_sections": [],
      "authorship_tag": "ABX9TyNyuA/g/NeiabEjIbs3jo3t",
      "include_colab_link": true
    },
    "kernelspec": {
      "name": "python3",
      "display_name": "Python 3"
    }
  },
  "cells": [
    {
      "cell_type": "markdown",
      "metadata": {
        "id": "view-in-github",
        "colab_type": "text"
      },
      "source": [
        "<a href=\"https://colab.research.google.com/github/LixingCheng/reimagined-palm-tree/blob/master/imuMotorCommandNode.ipynb\" target=\"_parent\"><img src=\"https://colab.research.google.com/assets/colab-badge.svg\" alt=\"Open In Colab\"/></a>"
      ]
    },
    {
      "cell_type": "code",
      "metadata": {
        "colab": {
          "base_uri": "https://localhost:8080/",
          "height": 368
        },
        "id": "jmK_M6knEand",
        "outputId": "0720675b-38d0-48c3-cc7c-5f69dfafc8b8"
      },
      "source": [
        "#!/usr/bin/env python\n",
        "\n",
        "import rospy\n",
        "# Import \"serial\" to get data from the AlaMode\n",
        "# Import the message types we will need\n",
        "from std_msgs.msg import Int32, Float32\n",
        "\n",
        "# Set up callable Publishers and messages\n",
        "pub_wheel_speed_desired_left = rospy.Publisher('/wheel_speed_desired_left',Float32,queue_size=1)\n",
        "pub_wheel_speed_desired_right = rospy.Publisher('/wheel_speed_desired_right',Float32,queue_size=1)\n",
        "\n",
        "\n",
        "def sensors_to_wheel_speed():\n",
        "    rospy.init_node('imuMotorCommandNode',anonymous=False)\n",
        "    \n",
        "    sub_imu_x_rot = rospy.Subscriber('/imu_x_rot',Int32,x_rot_to_motor_command)\n",
        "    \n",
        "    # prevent the node from exiting\n",
        "    rospy.spin()\n",
        "    \n",
        "    \n",
        "def x_rot_to_motor_command(msg_in):\n",
        "    \n",
        "    x_rot = msg_in.data\n",
        "    wheel_speed_desired = x_rot * 6.0;\n",
        "\n",
        "  #  if x_rot > 25.:\n",
        "        \n",
        "  #       determine the left wheel speed\n",
        "  #      wheel_speed_desired = 8.0*(25 - x_rot)\n",
        "        \n",
        "  #      if wheel_speed_desired > 480.:\n",
        "  #          wheel_speed_desired = 480.\n",
        "\n",
        "  #  else:\n",
        "  #      wheel_speed_desired = 0;\n",
        "\n",
        "    \n",
        "    # pack and publish\n",
        "    wheel_speed_desired_left_msg = Float32()\n",
        "    wheel_speed_desired_left_msg.data = -1 * wheel_speed_desired\n",
        "    pub_wheel_speed_desired_left.publish(wheel_speed_desired_left_msg)\n",
        "    rospy.loginfo(\"left {0}\".format(wheel_speed_desired_left_msg.data)) \n",
        "#    rospy.sleep(0.001)\n",
        "    \n",
        "    # pack and publish\n",
        "    wheel_speed_desired_right_msg = Float32()\n",
        "    wheel_speed_desired_right_msg.data = wheel_speed_desired \n",
        "    pub_wheel_speed_desired_right.publish(wheel_speed_desired_right_msg)\n",
        "    rospy.loginfo(\"right {}\".format(wheel_speed_desired_right_msg.data))    \n",
        "    \n",
        "# Section to start the execution, with Exception handling.         \n",
        "if __name__ == \"__main__\": \n",
        "    try: \n",
        "        sensors_to_wheel_speed()\n",
        "    except rospy.ROSInterruptException: \n",
        "        pass"
      ],
      "execution_count": null,
      "outputs": [
        {
          "output_type": "error",
          "ename": "ModuleNotFoundError",
          "evalue": "ignored",
          "traceback": [
            "\u001b[0;31m---------------------------------------------------------------------------\u001b[0m",
            "\u001b[0;31mModuleNotFoundError\u001b[0m                       Traceback (most recent call last)",
            "\u001b[0;32m<ipython-input-1-0ca036f8867a>\u001b[0m in \u001b[0;36m<module>\u001b[0;34m()\u001b[0m\n\u001b[1;32m      1\u001b[0m \u001b[0;31m#!/usr/bin/env python\u001b[0m\u001b[0;34m\u001b[0m\u001b[0;34m\u001b[0m\u001b[0;34m\u001b[0m\u001b[0m\n\u001b[1;32m      2\u001b[0m \u001b[0;34m\u001b[0m\u001b[0m\n\u001b[0;32m----> 3\u001b[0;31m \u001b[0;32mimport\u001b[0m \u001b[0mrospy\u001b[0m\u001b[0;34m\u001b[0m\u001b[0;34m\u001b[0m\u001b[0m\n\u001b[0m\u001b[1;32m      4\u001b[0m \u001b[0;31m# Import \"serial\" to get data from the AlaMode\u001b[0m\u001b[0;34m\u001b[0m\u001b[0;34m\u001b[0m\u001b[0;34m\u001b[0m\u001b[0m\n\u001b[1;32m      5\u001b[0m \u001b[0;31m# Import the message types we will need\u001b[0m\u001b[0;34m\u001b[0m\u001b[0;34m\u001b[0m\u001b[0;34m\u001b[0m\u001b[0m\n",
            "\u001b[0;31mModuleNotFoundError\u001b[0m: No module named 'rospy'",
            "",
            "\u001b[0;31m---------------------------------------------------------------------------\u001b[0;32m\nNOTE: If your import is failing due to a missing package, you can\nmanually install dependencies using either !pip or !apt.\n\nTo view examples of installing some common dependencies, click the\n\"Open Examples\" button below.\n\u001b[0;31m---------------------------------------------------------------------------\u001b[0m\n"
          ]
        }
      ]
    }
  ]
}